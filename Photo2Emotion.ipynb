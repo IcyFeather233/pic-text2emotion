{
 "cells": [
  {
   "cell_type": "code",
   "execution_count": 40,
   "id": "16100b05",
   "metadata": {},
   "outputs": [],
   "source": [
    "import requests\n",
    "from json import JSONDecoder"
   ]
  },
  {
   "cell_type": "code",
   "execution_count": 41,
   "id": "37516b5d",
   "metadata": {},
   "outputs": [],
   "source": [
    "http_url = \"https://api-cn.faceplusplus.com/facepp/v3/detect\""
   ]
  },
  {
   "cell_type": "code",
   "execution_count": 42,
   "id": "c7037b51",
   "metadata": {},
   "outputs": [],
   "source": [
    "key = \"iUkJVHoIIQuYOwDfdOGPZ4rT6tWQ0N-A\"\n",
    "secret = \"e6QWTXNZV87pxt7yKF7ypCoJBfk5SGuC\""
   ]
  },
  {
   "cell_type": "code",
   "execution_count": 43,
   "id": "77e5dab5",
   "metadata": {},
   "outputs": [],
   "source": [
    "filepath = \"./happy.jpg\""
   ]
  },
  {
   "cell_type": "code",
   "execution_count": 44,
   "id": "8fd0d7c8",
   "metadata": {},
   "outputs": [],
   "source": [
    "data = {\"api_key\":key, \"api_secret\": secret, \"return_landmark\": 1, \"return_attributes\": \"gender,age,smiling,beauty\"}"
   ]
  },
  {
   "cell_type": "code",
   "execution_count": 45,
   "id": "2afd8c22",
   "metadata": {},
   "outputs": [],
   "source": [
    "files = {\"image_file\": open(filepath, \"rb\")}"
   ]
  },
  {
   "cell_type": "code",
   "execution_count": 46,
   "id": "c5866d07",
   "metadata": {},
   "outputs": [
    {
     "name": "stdout",
     "output_type": "stream",
     "text": [
      "{'request_id': '1657949836,a50816fc-686b-4503-8c62-87ddc246034e', 'time_used': 245, 'faces': [{'face_token': '3d311be6299b4df3a107a57cdf49247c', 'face_rectangle': {'top': 213, 'left': 352, 'width': 288, 'height': 288}, 'landmark': {'contour_chin': {'x': 519, 'y': 502}, 'contour_left1': {'x': 374, 'y': 273}, 'contour_left2': {'x': 376, 'y': 305}, 'contour_left3': {'x': 381, 'y': 337}, 'contour_left4': {'x': 389, 'y': 369}, 'contour_left5': {'x': 402, 'y': 399}, 'contour_left6': {'x': 418, 'y': 426}, 'contour_left7': {'x': 437, 'y': 452}, 'contour_left8': {'x': 458, 'y': 476}, 'contour_left9': {'x': 485, 'y': 496}, 'contour_right1': {'x': 617, 'y': 270}, 'contour_right2': {'x': 620, 'y': 299}, 'contour_right3': {'x': 620, 'y': 329}, 'contour_right4': {'x': 615, 'y': 358}, 'contour_right5': {'x': 605, 'y': 386}, 'contour_right6': {'x': 592, 'y': 412}, 'contour_right7': {'x': 577, 'y': 437}, 'contour_right8': {'x': 563, 'y': 463}, 'contour_right9': {'x': 547, 'y': 488}, 'left_eye_bottom': {'x': 467, 'y': 272}, 'left_eye_center': {'x': 468, 'y': 266}, 'left_eye_left_corner': {'x': 441, 'y': 265}, 'left_eye_lower_left_quarter': {'x': 454, 'y': 269}, 'left_eye_lower_right_quarter': {'x': 481, 'y': 272}, 'left_eye_pupil': {'x': 463, 'y': 263}, 'left_eye_right_corner': {'x': 494, 'y': 272}, 'left_eye_top': {'x': 470, 'y': 256}, 'left_eye_upper_left_quarter': {'x': 455, 'y': 258}, 'left_eye_upper_right_quarter': {'x': 484, 'y': 261}, 'left_eyebrow_left_corner': {'x': 411, 'y': 234}, 'left_eyebrow_lower_left_quarter': {'x': 434, 'y': 226}, 'left_eyebrow_lower_middle': {'x': 456, 'y': 224}, 'left_eyebrow_lower_right_quarter': {'x': 480, 'y': 228}, 'left_eyebrow_right_corner': {'x': 504, 'y': 230}, 'left_eyebrow_upper_left_quarter': {'x': 432, 'y': 217}, 'left_eyebrow_upper_middle': {'x': 457, 'y': 213}, 'left_eyebrow_upper_right_quarter': {'x': 482, 'y': 217}, 'mouth_left_corner': {'x': 449, 'y': 376}, 'mouth_lower_lip_bottom': {'x': 513, 'y': 452}, 'mouth_lower_lip_left_contour1': {'x': 474, 'y': 414}, 'mouth_lower_lip_left_contour2': {'x': 460, 'y': 411}, 'mouth_lower_lip_left_contour3': {'x': 479, 'y': 439}, 'mouth_lower_lip_right_contour1': {'x': 549, 'y': 415}, 'mouth_lower_lip_right_contour2': {'x': 561, 'y': 413}, 'mouth_lower_lip_right_contour3': {'x': 544, 'y': 439}, 'mouth_lower_lip_top': {'x': 514, 'y': 434}, 'mouth_right_corner': {'x': 573, 'y': 380}, 'mouth_upper_lip_bottom': {'x': 518, 'y': 382}, 'mouth_upper_lip_left_contour1': {'x': 507, 'y': 372}, 'mouth_upper_lip_left_contour2': {'x': 475, 'y': 369}, 'mouth_upper_lip_left_contour3': {'x': 481, 'y': 377}, 'mouth_upper_lip_right_contour1': {'x': 530, 'y': 373}, 'mouth_upper_lip_right_contour2': {'x': 556, 'y': 372}, 'mouth_upper_lip_right_contour3': {'x': 549, 'y': 378}, 'mouth_upper_lip_top': {'x': 519, 'y': 375}, 'nose_contour_left1': {'x': 510, 'y': 269}, 'nose_contour_left2': {'x': 507, 'y': 316}, 'nose_contour_left3': {'x': 518, 'y': 349}, 'nose_contour_lower_middle': {'x': 542, 'y': 355}, 'nose_contour_right1': {'x': 548, 'y': 272}, 'nose_contour_right2': {'x': 562, 'y': 317}, 'nose_contour_right3': {'x': 558, 'y': 350}, 'nose_left': {'x': 496, 'y': 338}, 'nose_right': {'x': 569, 'y': 339}, 'nose_tip': {'x': 556, 'y': 332}, 'right_eye_bottom': {'x': 580, 'y': 275}, 'right_eye_center': {'x': 579, 'y': 267}, 'right_eye_left_corner': {'x': 554, 'y': 272}, 'right_eye_lower_left_quarter': {'x': 566, 'y': 274}, 'right_eye_lower_right_quarter': {'x': 593, 'y': 272}, 'right_eye_pupil': {'x': 574, 'y': 265}, 'right_eye_right_corner': {'x': 602, 'y': 266}, 'right_eye_top': {'x': 579, 'y': 257}, 'right_eye_upper_left_quarter': {'x': 564, 'y': 261}, 'right_eye_upper_right_quarter': {'x': 592, 'y': 259}, 'right_eyebrow_left_corner': {'x': 562, 'y': 232}, 'right_eyebrow_lower_left_quarter': {'x': 576, 'y': 231}, 'right_eyebrow_lower_middle': {'x': 590, 'y': 227}, 'right_eyebrow_lower_right_quarter': {'x': 603, 'y': 225}, 'right_eyebrow_right_corner': {'x': 615, 'y': 225}, 'right_eyebrow_upper_left_quarter': {'x': 573, 'y': 220}, 'right_eyebrow_upper_middle': {'x': 588, 'y': 215}, 'right_eyebrow_upper_right_quarter': {'x': 603, 'y': 216}}, 'attributes': {'gender': {'value': 'Female'}, 'age': {'value': 21}, 'smile': {'value': 100.0, 'threshold': 50.0}, 'beauty': {'male_score': 79.528, 'female_score': 84.418}}}], 'image_id': 'dA+JlVObw+gKmCimHKNV/Q==', 'face_num': 1}\n"
     ]
    }
   ],
   "source": [
    "response = requests.post(http_url, data=data, files=files)\n",
    "#POTS上传\n",
    "\n",
    "req_con = response.content.decode('utf-8')\n",
    "#response的内容是JSON格式\n",
    "\n",
    "req_dict = JSONDecoder().decode(req_con)\n",
    "#对其解码成字典格式\n",
    "\n",
    "print(req_dict)"
   ]
  },
  {
   "cell_type": "code",
   "execution_count": 47,
   "id": "48c10abb",
   "metadata": {},
   "outputs": [
    {
     "name": "stdout",
     "output_type": "stream",
     "text": [
      "3d311be6299b4df3a107a57cdf49247c\n"
     ]
    }
   ],
   "source": [
    "print(req_dict['faces'][0]['face_token'])"
   ]
  },
  {
   "cell_type": "code",
   "execution_count": 48,
   "id": "f2ad5a0f",
   "metadata": {},
   "outputs": [],
   "source": [
    "face_token = req_dict['faces'][0]['face_token']"
   ]
  },
  {
   "cell_type": "code",
   "execution_count": 49,
   "id": "0300a8ed",
   "metadata": {},
   "outputs": [],
   "source": [
    "http_url = \"https://api-cn.faceplusplus.com/facepp/v3/face/analyze\""
   ]
  },
  {
   "cell_type": "code",
   "execution_count": 50,
   "id": "966ab3b2",
   "metadata": {},
   "outputs": [],
   "source": [
    "data = {\"api_key\":key, \"api_secret\": secret, \"face_tokens\": face_token, \"return_landmark\": 1, \"return_attributes\": \"emotion\"}"
   ]
  },
  {
   "cell_type": "code",
   "execution_count": 51,
   "id": "766966ab",
   "metadata": {
    "scrolled": true
   },
   "outputs": [
    {
     "name": "stdout",
     "output_type": "stream",
     "text": [
      "{'time_used': 162, 'request_id': '1657949839,67950866-6b20-4c8c-bdc2-21dd28526983', 'faces': [{'landmark': {'mouth_upper_lip_left_contour2': {'y': 370, 'x': 476}, 'mouth_upper_lip_top': {'y': 375, 'x': 519}, 'mouth_upper_lip_left_contour1': {'y': 372, 'x': 508}, 'left_eye_upper_left_quarter': {'y': 258, 'x': 455}, 'left_eyebrow_lower_middle': {'y': 224, 'x': 457}, 'mouth_upper_lip_left_contour3': {'y': 377, 'x': 482}, 'right_eye_top': {'y': 258, 'x': 579}, 'left_eye_bottom': {'y': 272, 'x': 468}, 'right_eyebrow_lower_left_quarter': {'y': 232, 'x': 577}, 'right_eye_pupil': {'y': 265, 'x': 574}, 'mouth_lower_lip_right_contour1': {'y': 416, 'x': 550}, 'mouth_lower_lip_right_contour3': {'y': 440, 'x': 545}, 'mouth_lower_lip_right_contour2': {'y': 413, 'x': 562}, 'contour_chin': {'y': 502, 'x': 519}, 'contour_left9': {'y': 496, 'x': 485}, 'left_eye_lower_right_quarter': {'y': 272, 'x': 482}, 'mouth_lower_lip_top': {'y': 434, 'x': 514}, 'right_eyebrow_upper_middle': {'y': 215, 'x': 589}, 'left_eyebrow_left_corner': {'y': 235, 'x': 411}, 'right_eye_bottom': {'y': 275, 'x': 581}, 'contour_left7': {'y': 453, 'x': 437}, 'contour_left6': {'y': 427, 'x': 419}, 'contour_left5': {'y': 399, 'x': 402}, 'contour_left4': {'y': 369, 'x': 390}, 'contour_left3': {'y': 338, 'x': 382}, 'contour_left2': {'y': 306, 'x': 377}, 'contour_left1': {'y': 274, 'x': 375}, 'left_eye_lower_left_quarter': {'y': 270, 'x': 454}, 'contour_right1': {'y': 271, 'x': 618}, 'contour_right3': {'y': 329, 'x': 621}, 'contour_right2': {'y': 300, 'x': 620}, 'mouth_left_corner': {'y': 376, 'x': 449}, 'contour_right4': {'y': 359, 'x': 616}, 'contour_right7': {'y': 438, 'x': 578}, 'right_eyebrow_left_corner': {'y': 233, 'x': 562}, 'nose_right': {'y': 339, 'x': 569}, 'nose_tip': {'y': 333, 'x': 556}, 'contour_right5': {'y': 386, 'x': 605}, 'nose_contour_lower_middle': {'y': 356, 'x': 543}, 'left_eyebrow_lower_left_quarter': {'y': 226, 'x': 434}, 'mouth_lower_lip_left_contour3': {'y': 440, 'x': 479}, 'right_eye_right_corner': {'y': 267, 'x': 603}, 'right_eye_lower_right_quarter': {'y': 272, 'x': 593}, 'mouth_upper_lip_right_contour2': {'y': 372, 'x': 556}, 'right_eyebrow_lower_right_quarter': {'y': 226, 'x': 603}, 'left_eye_left_corner': {'y': 265, 'x': 442}, 'mouth_right_corner': {'y': 380, 'x': 573}, 'mouth_upper_lip_right_contour3': {'y': 379, 'x': 550}, 'right_eye_lower_left_quarter': {'y': 274, 'x': 567}, 'left_eyebrow_right_corner': {'y': 231, 'x': 504}, 'left_eyebrow_lower_right_quarter': {'y': 229, 'x': 480}, 'right_eye_center': {'y': 268, 'x': 579}, 'nose_left': {'y': 338, 'x': 496}, 'mouth_lower_lip_left_contour1': {'y': 415, 'x': 475}, 'left_eye_upper_right_quarter': {'y': 261, 'x': 484}, 'right_eyebrow_lower_middle': {'y': 228, 'x': 591}, 'left_eye_top': {'y': 257, 'x': 470}, 'left_eye_center': {'y': 267, 'x': 469}, 'contour_left8': {'y': 476, 'x': 459}, 'contour_right9': {'y': 489, 'x': 547}, 'right_eye_left_corner': {'y': 272, 'x': 554}, 'mouth_lower_lip_bottom': {'y': 452, 'x': 513}, 'left_eyebrow_upper_left_quarter': {'y': 217, 'x': 432}, 'left_eye_pupil': {'y': 263, 'x': 464}, 'right_eyebrow_upper_left_quarter': {'y': 220, 'x': 573}, 'contour_right8': {'y': 463, 'x': 564}, 'right_eyebrow_right_corner': {'y': 225, 'x': 616}, 'right_eye_upper_left_quarter': {'y': 262, 'x': 565}, 'left_eyebrow_upper_middle': {'y': 213, 'x': 457}, 'right_eyebrow_upper_right_quarter': {'y': 216, 'x': 604}, 'nose_contour_left1': {'y': 270, 'x': 511}, 'nose_contour_left2': {'y': 317, 'x': 507}, 'mouth_upper_lip_right_contour1': {'y': 373, 'x': 530}, 'nose_contour_right1': {'y': 273, 'x': 549}, 'nose_contour_right2': {'y': 318, 'x': 563}, 'mouth_lower_lip_left_contour2': {'y': 412, 'x': 460}, 'contour_right6': {'y': 412, 'x': 592}, 'nose_contour_right3': {'y': 350, 'x': 559}, 'nose_contour_left3': {'y': 350, 'x': 519}, 'left_eye_right_corner': {'y': 272, 'x': 495}, 'left_eyebrow_upper_right_quarter': {'y': 217, 'x': 483}, 'right_eye_upper_right_quarter': {'y': 260, 'x': 593}, 'mouth_upper_lip_bottom': {'y': 383, 'x': 518}}, 'attributes': {'emotion': {'sadness': 0.0, 'neutral': 0.0, 'disgust': 0.0, 'anger': 0.0, 'surprise': 0.001, 'fear': 0.002, 'happiness': 99.996}}, 'face_rectangle': {'width': 288, 'top': 213, 'left': 352, 'height': 288}, 'face_token': '3d311be6299b4df3a107a57cdf49247c'}]}\n"
     ]
    }
   ],
   "source": [
    "response = requests.post(http_url, data=data)\n",
    "#POTS上传\n",
    "\n",
    "req_con = response.content.decode('utf-8')\n",
    "#response的内容是JSON格式\n",
    "\n",
    "req_dict = JSONDecoder().decode(req_con)\n",
    "#对其解码成字典格式\n",
    "\n",
    "print(req_dict)"
   ]
  },
  {
   "cell_type": "code",
   "execution_count": 52,
   "id": "dd00fc29",
   "metadata": {},
   "outputs": [
    {
     "name": "stdout",
     "output_type": "stream",
     "text": [
      "{'sadness': 0.0, 'neutral': 0.0, 'disgust': 0.0, 'anger': 0.0, 'surprise': 0.001, 'fear': 0.002, 'happiness': 99.996}\n"
     ]
    }
   ],
   "source": [
    "print(req_dict['faces'][0]['attributes']['emotion'])"
   ]
  },
  {
   "cell_type": "code",
   "execution_count": 53,
   "id": "ea0d87b9",
   "metadata": {},
   "outputs": [],
   "source": [
    "emotion = req_dict['faces'][0]['attributes']['emotion']"
   ]
  },
  {
   "cell_type": "code",
   "execution_count": 54,
   "id": "4f13b9aa",
   "metadata": {},
   "outputs": [
    {
     "name": "stdout",
     "output_type": "stream",
     "text": [
      "happiness\n"
     ]
    }
   ],
   "source": [
    "emotion_res = 'cannot be judged'\n",
    "num = 0\n",
    "for e in emotion:\n",
    "    if (emotion[e] > num):\n",
    "        num = emotion[e]\n",
    "        emotion_res = e\n",
    "print(emotion_res)"
   ]
  },
  {
   "cell_type": "code",
   "execution_count": null,
   "id": "00e62b4f",
   "metadata": {},
   "outputs": [],
   "source": []
  }
 ],
 "metadata": {
  "kernelspec": {
   "display_name": "Python [conda env:root] *",
   "language": "python",
   "name": "conda-root-py"
  },
  "language_info": {
   "codemirror_mode": {
    "name": "ipython",
    "version": 3
   },
   "file_extension": ".py",
   "mimetype": "text/x-python",
   "name": "python",
   "nbconvert_exporter": "python",
   "pygments_lexer": "ipython3",
   "version": "3.8.5"
  }
 },
 "nbformat": 4,
 "nbformat_minor": 5
}
